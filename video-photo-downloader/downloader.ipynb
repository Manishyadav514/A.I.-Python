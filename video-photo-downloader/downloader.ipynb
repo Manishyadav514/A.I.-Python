{
 "cells": [
  {
   "cell_type": "code",
   "execution_count": 18,
   "metadata": {},
   "outputs": [
    {
     "data": {
      "text/plain": [
       "'C:\\\\Users\\\\manis\\\\DMDW\\\\rashmika.jpg'"
      ]
     },
     "execution_count": 18,
     "metadata": {},
     "output_type": "execute_result"
    }
   ],
   "source": [
    "# Insta photo downloader using particular photo link\n",
    "from pathlib import Path\n",
    "import selenium\n",
    "from selenium import webdriver\n",
    "import os\n",
    "import wget\n",
    "import time\n",
    "\n",
    "target = \"https://www.instagram.com/p/CNh_amHnABk/\"\n",
    "current_path = str(Path().absolute())\n",
    "driver = webdriver.Chrome(current_path + \"/chromedriver.exe\")\n",
    "driver.get(target)\n",
    "time.sleep(1)\n",
    "img = driver.find_elements_by_tag_name('img')\n",
    "img = [i.get_attribute('src') for i in img]\n",
    "img = img[1]\n",
    "save_as = os.path.join(current_path, \"rashmika\" + '.jpg')\n",
    "wget.download(img, save_as)"
   ]
  },
  {
   "cell_type": "code",
   "execution_count": 3,
   "metadata": {},
   "outputs": [],
   "source": [
    "# video downloader\n",
    "from pathlib import Path\n",
    "import selenium\n",
    "from selenium import webdriver\n",
    "import os\n",
    "import wget\n",
    "import time\n",
    "\n",
    "target = \"https://www.youtube.com/watch?v=ojpTpT5i-PI\"\n",
    "current_path = str(Path().absolute())\n",
    "driver = webdriver.Chrome(current_path + \"/chromedriver.exe\")\n",
    "driver.get(target)\n",
    "time.sleep(1)\n",
    "vid = driver.find_elements_by_tag_name('video')\n",
    "vid = [i.get_attribute('src') for i in vid]\n",
    "vid = vid[0]\n",
    "driver.get(vid)"
   ]
  },
  {
   "cell_type": "code",
   "execution_count": 13,
   "metadata": {},
   "outputs": [
    {
     "data": {
      "text/plain": [
       "'C:\\\\Users\\\\manis\\\\DMDW\\\\rashmika.mp4'"
      ]
     },
     "execution_count": 13,
     "metadata": {},
     "output_type": "execute_result"
    }
   ],
   "source": [
    "# Instagram reels download using a particular link\n",
    "from pathlib import Path\n",
    "import selenium\n",
    "from selenium import webdriver\n",
    "import os\n",
    "import wget\n",
    "\n",
    "target = \"     \"\n",
    "current_path = str(Path().absolute())\n",
    "driver = webdriver.Chrome(current_path + \"/chromedriver.exe\")\n",
    "driver.get(target)\n",
    "time.sleep(1)\n",
    "vid = driver.find_elements_by_tag_name('img')\n",
    "vid = [i.get_attribute('src') for i in vid]\n",
    "vid = vid[0]\n",
    "driver.get(vid)\n",
    "#save_as = os.path.join(current_path, \"rashmika\" + '.mp4')\n",
    "#wget.download(vid, save_as)"
   ]
  },
  {
   "cell_type": "code",
   "execution_count": 17,
   "metadata": {},
   "outputs": [
    {
     "name": "stdout",
     "output_type": "stream",
     "text": [
      "You have signed in\n",
      "You have searched for #milliebobbybrown\n",
      "Found 54 links to images\n"
     ]
    },
    {
     "data": {
      "text/plain": [
       "['https://www.instagram.com/p/COTHLQmgQ6b/',\n",
       " 'https://www.instagram.com/p/COSug2bAYTA/',\n",
       " 'https://www.instagram.com/p/COVoL-EIdrw/',\n",
       " 'https://www.instagram.com/p/COVv3yEA3c2/',\n",
       " 'https://www.instagram.com/p/COS9DWMqluN/']"
      ]
     },
     "execution_count": 17,
     "metadata": {},
     "output_type": "execute_result"
    }
   ],
   "source": [
    "# Login to your insta id, search for a keyword, download all images in a particular folder. \n",
    "#imports here\n",
    "from selenium import webdriver\n",
    "from selenium.webdriver.common.keys import Keys\n",
    "from selenium.webdriver.support import expected_conditions as EC\n",
    "from selenium.webdriver.common.by import By\n",
    "from selenium.webdriver.support.wait import WebDriverWait\n",
    "import time\n",
    "from pathlib import Path\n",
    "\n",
    "# To connect webdriver\n",
    "current_path = str(Path().absolute())\n",
    "driver = webdriver.Chrome(current_path + \"/chromedriver.exe\")\n",
    "driver.get(\"http://www.instagram.com\")\n",
    "\n",
    "# Target username\n",
    "username = WebDriverWait(driver, 10).until(EC.element_to_be_clickable((By.CSS_SELECTOR, \"input[name='username']\")))\n",
    "password = WebDriverWait(driver, 10).until(EC.element_to_be_clickable((By.CSS_SELECTOR, \"input[name='password']\")))\n",
    "\n",
    "# Will enter our username and password\n",
    "username.clear()\n",
    "username.send_keys(\"mm1896895@gmail.com\")\n",
    "password.clear()\n",
    "password.send_keys(\"manish2352\")\n",
    "\n",
    "# This code will target the login button and press it.\n",
    "button = WebDriverWait(driver, 2).until(EC.element_to_be_clickable((By.CSS_SELECTOR, \"button[type='submit']\"))).click()\n",
    "time.sleep(5)\n",
    "print(\"You have signed in\" )\n",
    "# disable the alert\n",
    "alert = WebDriverWait(driver, 15).until(EC.element_to_be_clickable((By.XPATH, '//button[contains(text(), \"Not Now\")]'))).click()\n",
    "alert2 = WebDriverWait(driver, 15).until(EC.element_to_be_clickable((By.XPATH, '//button[contains(text(), \"Not Now\")]'))).click()\n",
    "\n",
    "# target the search input field\n",
    "searchbox = WebDriverWait(driver, 10).until(EC.element_to_be_clickable((By.XPATH, \"//input[@placeholder='Search']\")))\n",
    "searchbox.clear()\n",
    "\n",
    "# search for the hashtag cat\n",
    "keyword = \"#milliebobbybrown\"\n",
    "searchbox.send_keys(keyword)\n",
    "print(\"You have searched for\", keyword)\n",
    "\n",
    "# FIXING THE DOUBLE ENTER\n",
    "time.sleep(5)  # Wait for 5 seconds\n",
    "my_link = WebDriverWait(driver, 10).until(\n",
    "    EC.element_to_be_clickable((By.XPATH, \"//a[contains(@href, '/\" + keyword[1:] + \"/')]\")))\n",
    "my_link.click()\n",
    "\n",
    "\n",
    "# scroll down n times, here it's\n",
    "n_scrolls = 1\n",
    "for j in range(0, n_scrolls):\n",
    "    driver.execute_script(\"window.scrollTo(0, document.body.scrollHeight);\")\n",
    "    time.sleep(5)\n",
    "\n",
    "#target all the link elements on the page\n",
    "anchors = driver.find_elements_by_tag_name('a')\n",
    "anchors = [a.get_attribute('href') for a in anchors]\n",
    "#narrow down all links to image links only\n",
    "anchors = [a for a in anchors if str(a).startswith(\"https://www.instagram.com/p/\")]\n",
    "print('Found ' + str(len(anchors)) + ' links to images')\n",
    "anchors[:5]\n",
    "# follow each image link and extract only image at index=1\n",
    "images = []\n",
    "for a in anchors:\n",
    "    driver.get(a)\n",
    "    time.sleep(1)\n",
    "    img = driver.find_elements_by_tag_name('img')\n",
    "    img = [i.get_attribute('src') for i in img]\n",
    "    images.append(img[1])\n",
    "images[:5]\n",
    "\n",
    "# We'll save all the images there\n",
    "import os\n",
    "import wget\n",
    "\n",
    "\n",
    "#download images\n",
    "counter = 0\n",
    "path = current_path + \"\\pic\"\n",
    "for image in images:\n",
    "    save_as = os.path.join(path, keyword[1:] + str(counter) + '.jpg')\n",
    "    wget.download(image, save_as)\n",
    "    counter += 1"
   ]
  },
  {
   "cell_type": "code",
   "execution_count": 32,
   "metadata": {},
   "outputs": [
    {
     "name": "stdout",
     "output_type": "stream",
     "text": [
      "You have signed in\n",
      "320\n"
     ]
    }
   ],
   "source": [
    "# pinterest photo download\n",
    "\n",
    "\n",
    "#imports here\n",
    "from selenium import webdriver\n",
    "from selenium.webdriver.common.keys import Keys\n",
    "from selenium.webdriver.support import expected_conditions as EC\n",
    "from selenium.webdriver.common.by import By\n",
    "from selenium.webdriver.support.wait import WebDriverWait\n",
    "import time\n",
    "from pathlib import Path\n",
    "\n",
    "# To connect webdriver\n",
    "current_path = str(Path().absolute())\n",
    "driver = webdriver.Chrome(current_path + \"/chromedriver.exe\")\n",
    "driver.get(\"https://in.pinterest.com/KateNumber13/massie-williams/\")\n",
    "\n",
    "# Target username\n",
    "WebDriverWait(driver, 15).until(EC.element_to_be_clickable((By.XPATH, '//*[@id=\"HeaderContent\"]/div/div[3]/div[1]/button'))).click()\n",
    "username = WebDriverWait(driver, 10).until(EC.element_to_be_clickable((By.CSS_SELECTOR, \"input[name='id']\")))\n",
    "password = WebDriverWait(driver, 10).until(EC.element_to_be_clickable((By.CSS_SELECTOR, \"input[name='password']\")))\n",
    "# Will enter our username and password\n",
    "username.clear()\n",
    "username.send_keys(\"mm1896895@gmail.com\")\n",
    "password.clear()\n",
    "password.send_keys(\"manish2352\")\n",
    "# This code will target the login button and press it.\n",
    "button = WebDriverWait(driver, 2).until(EC.element_to_be_clickable((By.CSS_SELECTOR, \"button[type='submit']\"))).click()\n",
    "time.sleep(5)\n",
    "print(\"You have signed in\" )\n",
    "\n",
    "# scroll down n times, here it's\n",
    "n_scrolls = 15\n",
    "link = []\n",
    "for j in range(0, n_scrolls):\n",
    "    try:\n",
    "        anchors = driver.find_elements_by_class_name('Wk9')\n",
    "        for a in anchors :\n",
    "            a = a.get_attribute('href')\n",
    "            if str(a).startswith(\"https://in.pinterest.com/pin/\"):\n",
    "                link.append(a)\n",
    "    except:\n",
    "        pass\n",
    "    driver.execute_script(\"window.scrollTo(0, document.body.scrollHeight);\")\n",
    "    time.sleep(5)\n",
    "print(len(link))\n",
    "\n",
    "# We'll save all the images there\n",
    "import os\n",
    "import wget\n",
    "       \n",
    "# follow each image link and extract only image at index=1\n",
    "images = []\n",
    "for a in link:\n",
    "    driver.get(a)\n",
    "    time.sleep(1)\n",
    "    img = driver.find_element_by_tag_name('img')\n",
    "    img = img.get_attribute('src')\n",
    "    images.append(img)\n",
    "count = 0 \n",
    "for src in images:\n",
    "    path = current_path + \"\\pic3\"\n",
    "    save_as = os.path.join(path, \"Messi William\" + str(count) + '.jpg')\n",
    "    wget.download(src, save_as)\n",
    "    count = count + 1\n",
    "    print(src)"
   ]
  },
  {
   "cell_type": "code",
   "execution_count": 1,
   "metadata": {},
   "outputs": [
    {
     "ename": "NameError",
     "evalue": "name 'link' is not defined",
     "output_type": "error",
     "traceback": [
      "\u001b[1;31m---------------------------------------------------------------------------\u001b[0m",
      "\u001b[1;31mNameError\u001b[0m                                 Traceback (most recent call last)",
      "\u001b[1;32m<ipython-input-1-841c24ef2469>\u001b[0m in \u001b[0;36m<module>\u001b[1;34m\u001b[0m\n\u001b[0;32m      5\u001b[0m \u001b[1;31m# follow each image link and extract only image at index=1\u001b[0m\u001b[1;33m\u001b[0m\u001b[1;33m\u001b[0m\u001b[1;33m\u001b[0m\u001b[0m\n\u001b[0;32m      6\u001b[0m \u001b[0mimages\u001b[0m \u001b[1;33m=\u001b[0m \u001b[1;33m[\u001b[0m\u001b[1;33m]\u001b[0m\u001b[1;33m\u001b[0m\u001b[1;33m\u001b[0m\u001b[0m\n\u001b[1;32m----> 7\u001b[1;33m \u001b[1;32mfor\u001b[0m \u001b[0ma\u001b[0m \u001b[1;32min\u001b[0m \u001b[0mlink\u001b[0m\u001b[1;33m:\u001b[0m\u001b[1;33m\u001b[0m\u001b[1;33m\u001b[0m\u001b[0m\n\u001b[0m\u001b[0;32m      8\u001b[0m     \u001b[0mdriver\u001b[0m\u001b[1;33m.\u001b[0m\u001b[0mget\u001b[0m\u001b[1;33m(\u001b[0m\u001b[0ma\u001b[0m\u001b[1;33m)\u001b[0m\u001b[1;33m\u001b[0m\u001b[1;33m\u001b[0m\u001b[0m\n\u001b[0;32m      9\u001b[0m     \u001b[0mtime\u001b[0m\u001b[1;33m.\u001b[0m\u001b[0msleep\u001b[0m\u001b[1;33m(\u001b[0m\u001b[1;36m1\u001b[0m\u001b[1;33m)\u001b[0m\u001b[1;33m\u001b[0m\u001b[1;33m\u001b[0m\u001b[0m\n",
      "\u001b[1;31mNameError\u001b[0m: name 'link' is not defined"
     ]
    }
   ],
   "source": [
    "# We'll save all the images there\n",
    "import os\n",
    "import wget\n",
    "       \n",
    "# follow each image link and extract only image at index=1\n",
    "images = []\n",
    "for a in link:\n",
    "    driver.get(a)\n",
    "    time.sleep(1)\n",
    "    img = driver.find_element_by_tag_name('img')\n",
    "    img = img.get_attribute('src')\n",
    "    images.append(img)\n",
    "count = 0 \n",
    "for src in images:\n",
    "    path = current_path + \"\\pic3\"\n",
    "    save_as = os.path.join(path, \"Messi William\" + str(count) + '.jpg')\n",
    "    wget.download(src, save_as)\n",
    "    count = count + 1\n",
    "    print(src)"
   ]
  },
  {
   "cell_type": "code",
   "execution_count": null,
   "metadata": {},
   "outputs": [],
   "source": []
  }
 ],
 "metadata": {
  "kernelspec": {
   "display_name": "Python 3",
   "language": "python",
   "name": "python3"
  },
  "language_info": {
   "codemirror_mode": {
    "name": "ipython",
    "version": 3
   },
   "file_extension": ".py",
   "mimetype": "text/x-python",
   "name": "python",
   "nbconvert_exporter": "python",
   "pygments_lexer": "ipython3",
   "version": "3.8.5"
  }
 },
 "nbformat": 4,
 "nbformat_minor": 4
}
